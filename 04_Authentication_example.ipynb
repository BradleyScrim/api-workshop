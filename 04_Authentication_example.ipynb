{
  "nbformat": 4,
  "nbformat_minor": 0,
  "metadata": {
    "colab": {
      "name": "04 Authentication example.ipynb",
      "version": "0.3.2",
      "provenance": [],
      "private_outputs": true,
      "collapsed_sections": []
    },
    "kernelspec": {
      "name": "python3",
      "display_name": "Python 3"
    }
  },
  "cells": [
    {
      "metadata": {
        "id": "JHKtr8pkN4Vs",
        "colab_type": "text"
      },
      "cell_type": "markdown",
      "source": [
        "# 4 Authentication and describing access Policies\n",
        "\n",
        "So far all API access have been http GETs with annonymous (not logged in) access.\n",
        "\n",
        "We will now look at authenticating, to access both hidden items and create things."
      ]
    },
    {
      "metadata": {
        "id": "oNuMV_-H_x8d",
        "colab_type": "code",
        "colab": {}
      },
      "cell_type": "code",
      "source": [
        "import requests\n",
        "import json\n",
        "import string\n",
        "\n",
        "import getpass"
      ],
      "execution_count": 0,
      "outputs": []
    },
    {
      "metadata": {
        "id": "qYY8jK5uOp_y",
        "colab_type": "text"
      },
      "cell_type": "markdown",
      "source": [
        "The base_url now points to a special SEEK instance that we can do what we like with."
      ]
    },
    {
      "metadata": {
        "id": "K6nMwdux__GM",
        "colab_type": "code",
        "colab": {}
      },
      "cell_type": "code",
      "source": [
        "base_url = 'https://sandbox3.fairdomhub.org'"
      ],
      "execution_count": 0,
      "outputs": []
    },
    {
      "metadata": {
        "id": "dd9DMoN2O8zY",
        "colab_type": "text"
      },
      "cell_type": "markdown",
      "source": [
        "the SEEK currently uses HTTP Authentication for authorization. This can be handled in Python using a requests Session object, through which all requests are made. This session also holds reusable details like the headers.\n",
        "\n",
        "We have future plans to also handle a token based authentication system.\n",
        "\n"
      ]
    },
    {
      "metadata": {
        "id": "5xYqthrVAvbW",
        "colab_type": "code",
        "colab": {}
      },
      "cell_type": "code",
      "source": [
        "headers = {\"Accept\": \"application/vnd.api+json\",\n",
        "           \"Accept-Charset\": \"ISO-8859-1\"}\n",
        "\n",
        "session = requests.Session()\n",
        "session.headers.update(headers)\n",
        "session.auth = (input('Username:'), getpass.getpass('Password'))"
      ],
      "execution_count": 0,
      "outputs": []
    },
    {
      "metadata": {
        "id": "IshgEBFTABh7",
        "colab_type": "code",
        "colab": {}
      },
      "cell_type": "code",
      "source": [
        "def json_for_resource(type, id):    \n",
        "\n",
        "  \n",
        "  r = session.get(base_url + \"/\" + type + \"/\" + str(id), headers=headers)\n",
        "  \n",
        "  if (r.status_code != 200):\n",
        "    print(r.json())\n",
        "  \n",
        "  r.raise_for_status()\n",
        "  return r.json()"
      ],
      "execution_count": 0,
      "outputs": []
    },
    {
      "metadata": {
        "id": "YGx8nnHXOvR5",
        "colab_type": "text"
      },
      "cell_type": "markdown",
      "source": [
        "Without authenticating an error will occur:\n",
        "\n",
        "- 403 Client Error. 403 is the standard HTTP CODE for unauthorized access.\n",
        "\n",
        "The JSON response will also provide error details.\n",
        "\n",
        "Once authenticated you should see the title of the file."
      ]
    },
    {
      "metadata": {
        "id": "fuOfHL1MAHH4",
        "colab_type": "code",
        "colab": {}
      },
      "cell_type": "code",
      "source": [
        "data_file_id = 1\n",
        "\n",
        "result = json_for_resource('data_files',data_file_id)\n",
        "\n",
        "title = result['data']['attributes']['title']\n",
        "\n",
        "title"
      ],
      "execution_count": 0,
      "outputs": []
    },
    {
      "metadata": {
        "id": "96R8ZtSPQ7ak",
        "colab_type": "text"
      },
      "cell_type": "markdown",
      "source": [
        "The attributes of the data file.\n",
        "\n",
        "**Note** that there is a new 'policy' block."
      ]
    },
    {
      "metadata": {
        "id": "MP7Ku5dgBy7o",
        "colab_type": "code",
        "colab": {}
      },
      "cell_type": "code",
      "source": [
        "result['data']['attributes']"
      ],
      "execution_count": 0,
      "outputs": []
    },
    {
      "metadata": {
        "id": "xvtMc56lRVZI",
        "colab_type": "text"
      },
      "cell_type": "markdown",
      "source": [
        "The policy block is only visible if you have 'manage' rights to a resource. It contains information about the sharing permissions.\n",
        "\n",
        "\n",
        "\n",
        "*   Possible access rights are:\n",
        "  * no_access\n",
        "  * view\n",
        "  * download\n",
        "  * edit\n",
        "  * manage\n",
        "*  The top level 'access' attribute indicates access for unregistered anonymous users (Public)\n",
        "*  The permissions lists special access to specific resources - Programme, Project, Instituion or Person. Programme, Project, Institution corresponds to whether yu are a member of that group.\n",
        "\n",
        "In this case:\n",
        "\n",
        "\n",
        "\n",
        "*   There is no access to all anonymous users\n",
        "*   Members of Project 1 https://sandbox3.fairdomhub.org/projects/1 can download the item\n",
        "*  Person 1 https://sandbox3.fairdomhub.org/people/1 has been granted special manage rights\n",
        "\n",
        "The submitter of the item isn't listed, but always has manage rights.\n",
        "\n",
        "\n",
        "\n"
      ]
    },
    {
      "metadata": {
        "id": "jmbgrNPsCQv8",
        "colab_type": "code",
        "colab": {}
      },
      "cell_type": "code",
      "source": [
        "result['data']['attributes']['policy']"
      ],
      "execution_count": 0,
      "outputs": []
    },
    {
      "metadata": {
        "id": "xgdpZ4XqTFPl",
        "colab_type": "text"
      },
      "cell_type": "markdown",
      "source": [
        "# Exercise 4\n",
        "\n",
        "\n",
        "\n",
        "*   Register an account with https://sandbox3.fairdomhub.org - don't re-use an existing username or password or worry about anything too secure. Let Stuart or Jacky know when you've done so they can add you to the project\n",
        "*  Run the example using your login and password\n",
        "\n"
      ]
    }
  ]
}