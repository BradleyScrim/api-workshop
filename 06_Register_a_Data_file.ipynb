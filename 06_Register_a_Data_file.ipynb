{
  "nbformat": 4,
  "nbformat_minor": 0,
  "metadata": {
    "colab": {
      "name": "06 Register a Data file.ipynb",
      "version": "0.3.2",
      "provenance": [],
      "private_outputs": true,
      "collapsed_sections": []
    },
    "kernelspec": {
      "name": "python3",
      "display_name": "Python 3"
    }
  },
  "cells": [
    {
      "metadata": {
        "id": "2EQ437sMf2EC",
        "colab_type": "text"
      },
      "cell_type": "markdown",
      "source": [
        "# 6 - Registering a Data file (as URL)\n",
        "\n",
        "Demonstrates how to register a new Data file, in this case without upload but through a URL."
      ]
    },
    {
      "metadata": {
        "id": "YXQGJkLL3voe",
        "colab_type": "code",
        "colab": {}
      },
      "cell_type": "code",
      "source": [
        "import requests\n",
        "import json\n",
        "import string\n",
        "\n",
        "import getpass"
      ],
      "execution_count": 0,
      "outputs": []
    },
    {
      "metadata": {
        "id": "TzvCwvpP4oZ2",
        "colab_type": "code",
        "colab": {}
      },
      "cell_type": "code",
      "source": [
        "base_url = 'https://sandbox3.fairdomhub.org'"
      ],
      "execution_count": 0,
      "outputs": []
    },
    {
      "metadata": {
        "id": "CkfhmNlhgAcG",
        "colab_type": "text"
      },
      "cell_type": "markdown",
      "source": [
        "Set up the headers and authenticate just as in the earlier steps."
      ]
    },
    {
      "metadata": {
        "id": "t_5lQJUZ4rIM",
        "colab_type": "code",
        "colab": {}
      },
      "cell_type": "code",
      "source": [
        "headers = {\"Content-type\": \"application/vnd.api+json\",\n",
        "           \"Accept\": \"application/vnd.api+json\",\n",
        "           \"Accept-Charset\": \"ISO-8859-1\"}\n",
        "\n",
        "session = requests.Session()\n",
        "session.headers.update(headers)\n",
        "session.auth = (input('Username:'), getpass.getpass('Password'))"
      ],
      "execution_count": 0,
      "outputs": []
    },
    {
      "metadata": {
        "id": "tsehXwHfgFmV",
        "colab_type": "text"
      },
      "cell_type": "markdown",
      "source": [
        "The assay_id is the ID of the Assay determined in the earlier step"
      ]
    },
    {
      "metadata": {
        "id": "zx-8IEVm4s7T",
        "colab_type": "code",
        "colab": {}
      },
      "cell_type": "code",
      "source": [
        "containing_project_id = 1\n",
        "assay_id = 2"
      ],
      "execution_count": 0,
      "outputs": []
    },
    {
      "metadata": {
        "id": "-NxP3BQigouR",
        "colab_type": "text"
      },
      "cell_type": "markdown",
      "source": [
        "The general data_file JSON structure is built as a Hash, just as we did with Investigation, Study and Assay. In this case, the policy says that anybody can download.\n",
        "\n",
        "The license is set as [Creative Commons Attribution 4.0](https://creativecommons.org/licenses/by/4.0/). The list of available licenses can be found in the SEEK [API Overview](https://docs.seek4science.org/tech/api/index.html)"
      ]
    },
    {
      "metadata": {
        "id": "VSZq69Ty6Mmp",
        "colab_type": "code",
        "colab": {}
      },
      "cell_type": "code",
      "source": [
        "data_file = {}\n",
        "data_file['data'] = {}\n",
        "data_file['data']['type'] = 'data_files'\n",
        "data_file['data']['attributes'] = {}\n",
        "data_file['data']['attributes']['title'] = 'my lovely datafile'\n",
        "data_file['data']['attributes']['license'] = 'CC-BY-4.0'\n",
        "data_file['data']['attributes']['policy'] = {'access':'download'}\n",
        "data_file['data']['relationships'] = {}\n",
        "data_file['data']['relationships']['projects'] = {}\n",
        "data_file['data']['relationships']['projects']['data'] = [{'id' : containing_project_id, 'type' : 'projects'}]"
      ],
      "execution_count": 0,
      "outputs": []
    },
    {
      "metadata": {
        "id": "u9LCZHdrhg61",
        "colab_type": "text"
      },
      "cell_type": "markdown",
      "source": [
        "We describe a Content Blob just as it is was described in a earlier step. In this case we use the url key, and point to an available file (not webpage). In this case a copy of the FAIRDOM logo in our Github repository. A custom filename has also been provided, without this the filename would be determined from the link."
      ]
    },
    {
      "metadata": {
        "id": "youDMBU8gTT7",
        "colab_type": "code",
        "colab": {}
      },
      "cell_type": "code",
      "source": [
        "remote_blob = {'url' : 'https://github.com/seek4science/seek/raw/master/app/assets/images/logos/fairdom-logo.png', 'original_filename':'logo.png'}\n",
        "data_file['data']['attributes']['content_blobs'] = [remote_blob]"
      ],
      "execution_count": 0,
      "outputs": []
    },
    {
      "metadata": {
        "id": "Am4cIzdeh__B",
        "colab_type": "text"
      },
      "cell_type": "markdown",
      "source": [
        "Just as before, the data file and content blob is registered in one step with a POST to the data_files root."
      ]
    },
    {
      "metadata": {
        "id": "lAqfcAx27HD0",
        "colab_type": "code",
        "colab": {}
      },
      "cell_type": "code",
      "source": [
        "r = session.post(base_url + '/data_files', json=data_file)\n",
        "r.raise_for_status()"
      ],
      "execution_count": 0,
      "outputs": []
    },
    {
      "metadata": {
        "id": "X-n9FFeqiVd-",
        "colab_type": "text"
      },
      "cell_type": "markdown",
      "source": [
        "The resulting JSON should provde the details about the created Data file. Note that in the content blob details, the size and content_type have automatically been determined by inspecting the URL (a HEAD request is used)."
      ]
    },
    {
      "metadata": {
        "id": "lNPqa6-V7JML",
        "colab_type": "code",
        "colab": {}
      },
      "cell_type": "code",
      "source": [
        "populated_data_file = r.json()\n",
        "populated_data_file"
      ],
      "execution_count": 0,
      "outputs": []
    },
    {
      "metadata": {
        "id": "2A2T0ztAjALo",
        "colab_type": "text"
      },
      "cell_type": "markdown",
      "source": [
        "We now link to the Assay created earlier. We could have linked this in one step, just as we linked Investigations, Studies and Assays. However, in this case the Assay will be updated, to demonstrate updating an existing resource using a PATCH (or PUT) request.\n",
        "\n",
        "Only the attributes that need changing need to be provided. In this case the title and data file links are changed. \n",
        "\n",
        "**Note** that if previous data files were linked, in this example the links would be replaced with data_file_id. In a real application you'd need to be careful to read and preserve existing links if desired."
      ]
    },
    {
      "metadata": {
        "id": "W-fksIQuDVGP",
        "colab_type": "code",
        "colab": {}
      },
      "cell_type": "code",
      "source": [
        "data_file_id = populated_data_file['data']['id']\n",
        "assay = {}\n",
        "assay['data'] = {}\n",
        "assay['data']['type'] = 'assays'\n",
        "assay['data']['attributes'] = {}\n",
        "assay['data']['attributes']['title'] = 'my lovely assay linked to data file'\n",
        "assay['data']['relationships'] = {}\n",
        "assay['data']['relationships']['data_files'] = {}\n",
        "assay['data']['relationships']['data_files']['data'] = [{'id' : data_file_id, 'type' : 'data_files'}]\n",
        "\n",
        "assay_url = base_url + '/assays/' + str(assay_id)\n",
        "\n",
        "r = session.put(assay_url, json=assay)\n",
        "r.raise_for_status()\n",
        "\n",
        "assay_url"
      ],
      "execution_count": 0,
      "outputs": []
    },
    {
      "metadata": {
        "id": "7jWCcSDsk5wt",
        "colab_type": "text"
      },
      "cell_type": "markdown",
      "source": [
        "# Exercise 6\n",
        "\n",
        "\n",
        "\n",
        "*  Find a URL to a resource online. This can be a picture on a website or a raw file in github. Update the data file to use that URL\n",
        "*  Using the assay ID from the previous step, link the data to that assay and also update the title to something new. \n",
        "\n",
        "\n"
      ]
    }
  ]
}