{
  "nbformat": 4,
  "nbformat_minor": 0,
  "metadata": {
    "colab": {
      "name": "01 Person.ipynb",
      "version": "0.3.2",
      "provenance": [],
      "private_outputs": true,
      "collapsed_sections": []
    },
    "kernelspec": {
      "name": "python3",
      "display_name": "Python 3"
    }
  },
  "cells": [
    {
      "metadata": {
        "id": "MRz1Ay3ej2jx",
        "colab_type": "text"
      },
      "cell_type": "markdown",
      "source": [
        "# 1 - Introducing interacting with the API, the JSON format and structure\n",
        "\n",
        "\n",
        "\n",
        "Import the libraries so that they can be used within the notebook\n",
        "\n",
        "  * **requests** is used to make HTTP calls\n",
        "  * **json** is used to encode and decode strings into JSON\n",
        "  * **string** is used to perform text manipulation and checking\n",
        "  * **pandas** helps format the JSON data in a more readable format"
      ]
    },
    {
      "metadata": {
        "id": "MsBH0RMG6WQB",
        "colab_type": "code",
        "colab": {}
      },
      "cell_type": "code",
      "source": [
        "import requests\n",
        "import json\n",
        "import string\n",
        "\n",
        "import pandas as pd\n",
        "from pandas.io.json import json_normalize"
      ],
      "execution_count": 0,
      "outputs": []
    },
    {
      "metadata": {
        "id": "IDdTyTLZkuXb",
        "colab_type": "text"
      },
      "cell_type": "markdown",
      "source": [
        "Since we are just 'reading', we will use the FAIRDOMHub directly for these examples"
      ]
    },
    {
      "metadata": {
        "id": "4GZtonsTWhd6",
        "colab_type": "code",
        "colab": {}
      },
      "cell_type": "code",
      "source": [
        "base_url = 'https://www.fairdomhub.org'"
      ],
      "execution_count": 0,
      "outputs": []
    },
    {
      "metadata": {
        "id": "KBHU_WtVk43y",
        "colab_type": "text"
      },
      "cell_type": "markdown",
      "source": [
        "A helper method for receiving the JSON response for a give resource type and id.\n",
        "\n",
        "We request using the standard URL (in the example https://fairdomhub.org/people/134), but instead of receiving the default HTML response, we request to get JSON. The is acheived by the Accept header: *\"Accept\": \"application/vnd.api+json\"* . This is known as [Content Negotiation](https://en.wikipedia.org/wiki/Content_negotiation) (\"application/json\" would also work).\n",
        "\n",
        "You can also see the JSON in the browser by adding the **.json** extension, https://fairdomhub.org/people/134.json .\n",
        "\n",
        "We use the Python **requests** module to make the request:\n",
        "\n",
        "  * **Accept: application/vnd.api+json** - indicates that the notebook expects any data returned to be in JSON API format\n",
        "  * **Accept-Charset: ISO-8859-1** - indicates that the notebook expects any text returned to be in ISO-8859-1 character set\n",
        "\n"
      ]
    },
    {
      "metadata": {
        "id": "gh2LJE_l6pgk",
        "colab_type": "code",
        "colab": {}
      },
      "cell_type": "code",
      "source": [
        "def json_for_resource(type, id):    \n",
        "\n",
        "  headers = {\n",
        "      \"Accept\": \"application/vnd.api+json\",\n",
        "      \"Accept-Charset\": \"ISO-8859-1\"\n",
        "  }\n",
        "\n",
        "  r = requests.get(base_url + \"/\" + type + \"/\" + str(id), headers=headers)\n",
        "  r.raise_for_status()\n",
        "  return r.json()\n",
        "  "
      ],
      "execution_count": 0,
      "outputs": []
    },
    {
      "metadata": {
        "id": "v0bKuUdbl4Ej",
        "colab_type": "text"
      },
      "cell_type": "markdown",
      "source": [
        "Using the previous function, we request the JSON for a person in the FAIRDOMHub, and display the resulting JSON.\n",
        "\n",
        "The JSON structure follows the [JSONAPI Specification](https://jsonapi.org/), which is shared convention. It is designed to be flexible, application indepentant, and makes interoperability and general tooling easier.\n",
        "\n",
        "The main elements are:\n",
        "\n",
        "  * **data** - the resources primary data\n",
        "  * **attributes** - metadata attributes association with the resource\n",
        "  * **links** - links related to the resource, usually the link to itself\n",
        "  * **meta** - non-standard meta-information about a resource that can not be represented as an attribute or relationship, this is generally created and updated timestamps\n",
        "  * **relationships** - other resources related to this resource"
      ]
    },
    {
      "metadata": {
        "id": "L7a0FAgc_rk9",
        "colab_type": "code",
        "colab": {}
      },
      "cell_type": "code",
      "source": [
        "person_id = 134\n",
        "\n",
        "result = json_for_resource('people',person_id)\n",
        "\n",
        "result"
      ],
      "execution_count": 0,
      "outputs": []
    },
    {
      "metadata": {
        "id": "hzkTu47tqIAe",
        "colab_type": "text"
      },
      "cell_type": "markdown",
      "source": [
        "Here we delve into the attributes:"
      ]
    },
    {
      "metadata": {
        "id": "WN8mMe487GTp",
        "colab_type": "code",
        "colab": {}
      },
      "cell_type": "code",
      "source": [
        "data = json_normalize(result['data']['attributes'])\n",
        "\n",
        "data"
      ],
      "execution_count": 0,
      "outputs": []
    },
    {
      "metadata": {
        "id": "fJCRrXgAqVBO",
        "colab_type": "text"
      },
      "cell_type": "markdown",
      "source": [
        "Listing the **tools** this person has described themself as having knowledge about"
      ]
    },
    {
      "metadata": {
        "id": "FO17il1y_GQP",
        "colab_type": "code",
        "colab": {}
      },
      "cell_type": "code",
      "source": [
        "result['data']['attributes']['tools']"
      ],
      "execution_count": 0,
      "outputs": []
    },
    {
      "metadata": {
        "id": "FiaSmdrnqYgl",
        "colab_type": "text"
      },
      "cell_type": "markdown",
      "source": [
        "Here is the persons **avatar** displayed, which is also accessible through the API"
      ]
    },
    {
      "metadata": {
        "id": "VTh1jl-AWdD7",
        "colab_type": "code",
        "colab": {}
      },
      "cell_type": "code",
      "source": [
        "avatar_url = base_url + result['data']['attributes']['avatar']\n",
        "\n",
        "from IPython.display import Image\n",
        "from IPython.core.display import HTML \n",
        "Image(url= avatar_url)"
      ],
      "execution_count": 0,
      "outputs": []
    },
    {
      "metadata": {
        "id": "U2g_DWM7qnBD",
        "colab_type": "text"
      },
      "cell_type": "markdown",
      "source": [
        "# Exercise 1\n",
        "\n",
        "  * Run the notebook and familiarise yourself with each step. Have a short glance at the JSON API spec\n",
        "  * Find yourself, or a collegue on the [FAIRDOMHub](https://fairdomhub.org). Ideally somebody with an avatar and some details filled out about themself\n",
        "  * Update the notebook to display details about the person, and also update it to list their *expertise* instead of *tools*\n",
        "\n"
      ]
    }
  ]
}