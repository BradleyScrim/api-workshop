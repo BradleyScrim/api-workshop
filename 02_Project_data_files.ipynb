{
  "nbformat": 4,
  "nbformat_minor": 0,
  "metadata": {
    "colab": {
      "name": "02 Project data files.ipynb",
      "version": "0.3.2",
      "provenance": [],
      "private_outputs": true,
      "collapsed_sections": []
    },
    "kernelspec": {
      "name": "python3",
      "display_name": "Python 3"
    }
  },
  "cells": [
    {
      "metadata": {
        "id": "OhOD36r9EUdo",
        "colab_type": "text"
      },
      "cell_type": "markdown",
      "source": [
        "# 2 - Accessing Related Items through Relationships\n",
        "\n",
        "---\n",
        "\n"
      ]
    },
    {
      "metadata": {
        "id": "ry6UzSk1Yx10",
        "colab_type": "code",
        "colab": {}
      },
      "cell_type": "code",
      "source": [
        "import requests\n",
        "import json\n",
        "import string\n",
        "\n",
        "# Importing the libraries we need to format the data in a more readable way. \n",
        "import pandas as pd\n",
        "from pandas.io.json import json_normalize"
      ],
      "execution_count": 0,
      "outputs": []
    },
    {
      "metadata": {
        "id": "RdO2Ow8UZVJf",
        "colab_type": "code",
        "colab": {}
      },
      "cell_type": "code",
      "source": [
        "base_url = 'https://www.fairdomhub.org'"
      ],
      "execution_count": 0,
      "outputs": []
    },
    {
      "metadata": {
        "id": "yo-j406CZU8f",
        "colab_type": "code",
        "colab": {}
      },
      "cell_type": "code",
      "source": [
        "def json_for_resource(type, id):    \n",
        "\n",
        "  headers = {\"Accept\": \"application/vnd.api+json\",\n",
        "           \"Accept-Charset\": \"ISO-8859-1\"}\n",
        "  r = requests.get(base_url + \"/\" + type + \"/\" + str(id), headers=headers)\n",
        "  r.raise_for_status()\n",
        "  return r.json()"
      ],
      "execution_count": 0,
      "outputs": []
    },
    {
      "metadata": {
        "id": "EsPcgAu7EiOt",
        "colab_type": "text"
      },
      "cell_type": "markdown",
      "source": [
        "Fetches the JSON for Project 60\n",
        "\n",
        "Shows just the relationships block, rather than the full JSON, as this is what we are interested in here.\n",
        "\n",
        "Relationships are grouped by type. Each relationship has a '*data*' block, which provides an array of relationship resource.\n",
        "\n",
        "Each resource is described with an '*id*' and '*type*'.\n",
        "\n",
        "SEEK supports Restful Routes, each resource can be identified by:\n",
        "\n",
        "    https://<host>/<resource-type>/<id>\n",
        "    \n",
        "so,  *{'id': '18', 'type': 'institutions'}* would be https://fairdomhub.org/institutions/18\n",
        "\n",
        "**Note** that only visible resources are listed, any related items that are not visible due to sharing permissions, are omitted. (more in accessing as an authorized user later)."
      ]
    },
    {
      "metadata": {
        "id": "rTgP55PoZavm",
        "colab_type": "code",
        "colab": {}
      },
      "cell_type": "code",
      "source": [
        "project_id = 60\n",
        "\n",
        "result = json_for_resource('projects',project_id)\n",
        "\n",
        "\n",
        "print(\"Project: \" + result['data']['attributes']['title'] + \"\\n\")\n",
        "\n",
        "result['data']['relationships']"
      ],
      "execution_count": 0,
      "outputs": []
    },
    {
      "metadata": {
        "id": "SKI4ufNfF2F1",
        "colab_type": "text"
      },
      "cell_type": "markdown",
      "source": [
        "Here we iterate over each related data_file, and GET the resource JSON, and display the resulting id and title in a table"
      ]
    },
    {
      "metadata": {
        "id": "aXPRjrknab7P",
        "colab_type": "code",
        "colab": {}
      },
      "cell_type": "code",
      "source": [
        "\n",
        "files = []\n",
        "type = 'data_files'\n",
        "\n",
        "for item in result['data']['relationships'][type]['data']:\n",
        "  j = json_for_resource(item['type'],item['id'])  \n",
        "  files.append({\n",
        "      'id':j['data']['id'],\n",
        "      'title':j['data']['attributes']['title'],      \n",
        "  })\n",
        "  \n",
        "print(str(len(files)) + \" found\") \n",
        "\n",
        "json_normalize(files)\n",
        "  "
      ],
      "execution_count": 0,
      "outputs": []
    },
    {
      "metadata": {
        "id": "5n8ENGekGSmI",
        "colab_type": "text"
      },
      "cell_type": "markdown",
      "source": [
        "# Exercise 2\n",
        "\n",
        "\n",
        "\n",
        "  *   Run the notebook and familiarise yourself with each step.\n",
        "  *   Update to list the assays related to the project https://fairdomhub.org/projects/19\n",
        "  *   Update to list the models related to Natalie: https://fairdomhub.org/people/433\n",
        "\n",
        "\n"
      ]
    }
  ]
}