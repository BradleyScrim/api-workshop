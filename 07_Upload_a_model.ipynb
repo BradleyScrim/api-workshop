{
  "nbformat": 4,
  "nbformat_minor": 0,
  "metadata": {
    "colab": {
      "name": "07 Upload a model.ipynb",
      "version": "0.3.2",
      "provenance": [],
      "private_outputs": true
    },
    "kernelspec": {
      "name": "python3",
      "display_name": "Python 3"
    }
  },
  "cells": [
    {
      "metadata": {
        "id": "LuN06HCHo5JD",
        "colab_type": "text"
      },
      "cell_type": "markdown",
      "source": [
        "# 7 Uploading Model files\n",
        "\n",
        "Demonstrates uploading a file (rather than registering a URL). This requires multiple steps, first creating content blob \"placeholders\", and then updating the content blobs with the data to be uploaded."
      ]
    },
    {
      "metadata": {
        "id": "WgznBte9jT-K",
        "colab_type": "code",
        "colab": {}
      },
      "cell_type": "code",
      "source": [
        "import requests\n",
        "import json\n",
        "import string\n",
        "\n",
        "import getpass\n",
        "\n",
        "import urllib.request"
      ],
      "execution_count": 0,
      "outputs": []
    },
    {
      "metadata": {
        "id": "8IKxEL9Njg2f",
        "colab_type": "code",
        "colab": {}
      },
      "cell_type": "code",
      "source": [
        "base_url = 'https://sandbox3.fairdomhub.org'"
      ],
      "execution_count": 0,
      "outputs": []
    },
    {
      "metadata": {
        "id": "xJwC0C0wji3n",
        "colab_type": "code",
        "colab": {}
      },
      "cell_type": "code",
      "source": [
        "headers = {\"Content-type\": \"application/vnd.api+json\",\n",
        "           \"Accept\": \"application/vnd.api+json\",\n",
        "           \"Accept-Charset\": \"ISO-8859-1\"}\n",
        "\n",
        "session = requests.Session()\n",
        "session.headers.update(headers)\n",
        "session.auth = (input('Username:'), getpass.getpass('Password'))"
      ],
      "execution_count": 0,
      "outputs": []
    },
    {
      "metadata": {
        "id": "-cP9Te4_skfy",
        "colab_type": "code",
        "colab": {}
      },
      "cell_type": "code",
      "source": [
        "def json_for_resource(type, id):    \n",
        "\n",
        "  \n",
        "  r = session.get(base_url + \"/\" + type + \"/\" + str(id), headers=headers)\n",
        "  \n",
        "  if (r.status_code != 200):\n",
        "    print(r.json())\n",
        "  \n",
        "  r.raise_for_status()\n",
        "  return r.json()"
      ],
      "execution_count": 0,
      "outputs": []
    },
    {
      "metadata": {
        "id": "xmCnHZc5jrVF",
        "colab_type": "code",
        "colab": {}
      },
      "cell_type": "code",
      "source": [
        "containing_project_id = 1\n"
      ],
      "execution_count": 0,
      "outputs": []
    },
    {
      "metadata": {
        "id": "MVTl062tpNuY",
        "colab_type": "text"
      },
      "cell_type": "markdown",
      "source": [
        "This defines the placeholder information for the content blob. For now just the filename and mime type are provided."
      ]
    },
    {
      "metadata": {
        "id": "SscuQxmemHXE",
        "colab_type": "code",
        "colab": {}
      },
      "cell_type": "code",
      "source": [
        "local_blob = {'original_filename' : 'RoboKoD.xml', 'content_type' : 'text/xml'}"
      ],
      "execution_count": 0,
      "outputs": []
    },
    {
      "metadata": {
        "id": "zQIvfSVcqP2M",
        "colab_type": "text"
      },
      "cell_type": "markdown",
      "source": [
        "Set up the attributes for the model and include the content blob details. This also shows the intent that content blobs will be provided. Although in this case there is only one content blob, for Models there could potentially be more which can be described."
      ]
    },
    {
      "metadata": {
        "id": "Q2gXy-NjlIt0",
        "colab_type": "code",
        "colab": {}
      },
      "cell_type": "code",
      "source": [
        "model = {}\n",
        "model['data'] = {}\n",
        "model['data']['type'] = 'models'\n",
        "model['data']['attributes'] = {}\n",
        "model['data']['attributes']['title'] = 'iNS142 RobOKoD Redesigned Butanol Producing.'\n",
        "model['data']['attributes']['policy'] = {'access':'download'}\n",
        "model['data']['relationships'] = {}\n",
        "model['data']['relationships']['projects'] = {}\n",
        "model['data']['relationships']['projects']['data'] = [{'id' : containing_project_id, 'type' : 'projects'}]\n",
        "\n",
        "model['data']['attributes']['content_blobs'] = [local_blob]"
      ],
      "execution_count": 0,
      "outputs": []
    },
    {
      "metadata": {
        "id": "iv5fTMlTrB28",
        "colab_type": "text"
      },
      "cell_type": "markdown",
      "source": [
        "Register the Model. The resulting JSON contains the content blob element, but this is currently blank. "
      ]
    },
    {
      "metadata": {
        "id": "NfB5YCOdltZh",
        "colab_type": "code",
        "colab": {}
      },
      "cell_type": "code",
      "source": [
        "r = session.post(base_url + '/models', json=model)\n",
        "r.raise_for_status()\n",
        "\n",
        "populated_model = r.json()\n",
        "populated_model"
      ],
      "execution_count": 0,
      "outputs": []
    },
    {
      "metadata": {
        "id": "zmkoGcn0rKib",
        "colab_type": "text"
      },
      "cell_type": "markdown",
      "source": [
        "Now upload the file. Normally it would come from a local file, but we simulate this here by fetching from a URL (notice how the SEEK API is being used to fetch a model file!)\n",
        "\n",
        "*data* contains the data for an SBML model.\n",
        "\n"
      ]
    },
    {
      "metadata": {
        "id": "1_Z-8Xx8v8bV",
        "colab_type": "code",
        "colab": {}
      },
      "cell_type": "code",
      "source": [
        "url = 'https://fairdomhub.org/models/159/content_blobs/1986/download'\n",
        "response = urllib.request.urlopen(url)\n",
        "data = response.read()\n"
      ],
      "execution_count": 0,
      "outputs": []
    },
    {
      "metadata": {
        "id": "qvtjDnB8rpIY",
        "colab_type": "text"
      },
      "cell_type": "markdown",
      "source": [
        "Now with a PUT update the content blob with the data. The url for the content blob was provided by the Model creation JSON response.\n",
        "\n",
        "The *headers={'Content-Type': 'application/octet-stream'}* is currently required, otherwise in this case SEEK tries to process it as an invalid XML request resulting i an error."
      ]
    },
    {
      "metadata": {
        "id": "OjjtVRHrmvgh",
        "colab_type": "code",
        "colab": {}
      },
      "cell_type": "code",
      "source": [
        "\n",
        "\n",
        "blob_url = populated_model['data']['attributes']['content_blobs'][0]['link']\n",
        "\n",
        "upload = session.put(blob_url, data=data, headers={'Content-Type': 'application/octet-stream'})\n",
        "upload.raise_for_status()\n"
      ],
      "execution_count": 0,
      "outputs": []
    },
    {
      "metadata": {
        "id": "WYY7k1b0s83P",
        "colab_type": "text"
      },
      "cell_type": "markdown",
      "source": [
        "Fetch the JSON for the model again, and look at the content blob attributes.\n",
        "\n",
        "The size and checksums have now been updated with the new content."
      ]
    },
    {
      "metadata": {
        "id": "gSQs5cMNazb3",
        "colab_type": "code",
        "colab": {}
      },
      "cell_type": "code",
      "source": [
        "model_json = json_for_resource('models',populated_model['data']['id'])\n",
        "model_json['data']['attributes']['content_blobs']\n",
        "\n"
      ],
      "execution_count": 0,
      "outputs": []
    },
    {
      "metadata": {
        "id": "1B_1eDmVtPBm",
        "colab_type": "text"
      },
      "cell_type": "markdown",
      "source": [
        "# Exercice 7\n",
        "\n",
        "\n",
        "\n",
        "*   Update the notebook to register a Model with 2 content blobs. You can use a URL to a resource on the web, or use the link to the FAIRDOM logo in the previous example\n",
        "* More details about the API can be found at https://docs.seek4science.org/help/user-guide/api.html which is constantly updated. This includes a link to the [API Overview](https://docs.seek4science.org/tech/api/index.html)\n",
        "\n"
      ]
    }
  ]
}